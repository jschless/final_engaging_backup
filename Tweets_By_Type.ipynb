{
 "cells": [
  {
   "cell_type": "markdown",
   "metadata": {},
   "source": [
    "The purpose of this notebook is to generate some figures that communicate the breakdown of tweets by zero-exposure, astroturfed, and other."
   ]
  },
  {
   "cell_type": "code",
   "execution_count": 1,
   "metadata": {
    "collapsed": true
   },
   "outputs": [],
   "source": [
    "import os \n",
    "from datetime import timedelta\n",
    "\n",
    "import pandas as pd\n",
    "import matplotlib.pyplot as plt\n",
    "from tqdm import tqdm\n",
    "\n",
    "DATA_DIR = '/pool001/jschless/kiran-data/kiran-data/'\n",
    "TURKEY_DIR = '/pool001/jschless/turkish_astroturfing'"
   ]
  },
  {
   "cell_type": "markdown",
   "metadata": {},
   "source": [
    "## Load Turkey Data"
   ]
  },
  {
   "cell_type": "code",
   "execution_count": 2,
   "metadata": {
    "collapsed": true
   },
   "outputs": [],
   "source": [
    "# Loading df created in the Turkey_Data_Wrangling notebook\n",
    "df = pd.read_pickle(os.path.join(DATA_DIR, 'mega_df_full_follower_final.pkl'))"
   ]
  },
  {
   "cell_type": "code",
   "execution_count": 3,
   "metadata": {
    "collapsed": true
   },
   "outputs": [],
   "source": [
    "df['zero_exposure_post_trend'] = df.apply(lambda x: 1 if (x.exposed==False and x.time_since_trending>0) else 0, axis=1)"
   ]
  },
  {
   "cell_type": "code",
   "execution_count": 4,
   "metadata": {
    "collapsed": true
   },
   "outputs": [],
   "source": [
    "df['astroturfed'] = df.lexicon.map(lambda x: 1 if x else 0)"
   ]
  },
  {
   "cell_type": "code",
   "execution_count": 5,
   "metadata": {
    "collapsed": true
   },
   "outputs": [],
   "source": [
    "df['exposed'] = df.exposed.map(lambda x: 1 if x else 0)"
   ]
  },
  {
   "cell_type": "code",
   "execution_count": 6,
   "metadata": {
    "collapsed": true
   },
   "outputs": [],
   "source": [
    "rolled_up = df.groupby('trend').sum()[['exposed', 'zero_exposure_post_trend', 'astroturfed']]\n",
    "temp = rolled_up.div(rolled_up.sum(axis=1), axis=0).melt()\n",
    "temp['type'] = \"Turkey\""
   ]
  },
  {
   "cell_type": "markdown",
   "metadata": {},
   "source": [
    "## Load India Data"
   ]
  },
  {
   "cell_type": "code",
   "execution_count": 7,
   "metadata": {
    "collapsed": true
   },
   "outputs": [],
   "source": [
    "import pickle\n",
    "TWITTER_DATA_DIR = '/home/jschless/whatsapp/data/twitter-coordination-src/data'\n",
    "with open(os.path.join(TWITTER_DATA_DIR, 'panel_df_dict.pkl'), 'rb') as f:\n",
    "    df_dict = pickle.load(f)"
   ]
  },
  {
   "cell_type": "code",
   "execution_count": 8,
   "metadata": {
    "collapsed": true
   },
   "outputs": [],
   "source": [
    "top_50_panel_df = df_dict[('earliest', 50)]"
   ]
  },
  {
   "cell_type": "code",
   "execution_count": 9,
   "metadata": {
    "collapsed": true
   },
   "outputs": [],
   "source": [
    "rolled_up_india = (\n",
    "    top_50_panel_df.groupby('hashtag').sum()\n",
    "    [['template', 'nonzero_exposure_regular', 'zero_exposure_regular']]\n",
    "    .rename(columns={'template': 'astroturfed', 'nonzero_exposure_regular': 'exposed',\n",
    "                     'zero_exposure_regular': 'zero_exposure_post_trend'}\n",
    "           )\n",
    ")\n",
    "temp_india = rolled_up_india.div(rolled_up_india.sum(axis=1), axis=0).melt()\n",
    "temp_india['type'] = \"India\""
   ]
  },
  {
   "cell_type": "code",
   "execution_count": 13,
   "metadata": {},
   "outputs": [
    {
     "data": {
      "text/html": [
       "<div>\n",
       "<style scoped>\n",
       "    .dataframe tbody tr th:only-of-type {\n",
       "        vertical-align: middle;\n",
       "    }\n",
       "\n",
       "    .dataframe tbody tr th {\n",
       "        vertical-align: top;\n",
       "    }\n",
       "\n",
       "    .dataframe thead th {\n",
       "        text-align: right;\n",
       "    }\n",
       "</style>\n",
       "<table border=\"1\" class=\"dataframe\">\n",
       "  <thead>\n",
       "    <tr style=\"text-align: right;\">\n",
       "      <th></th>\n",
       "      <th>variable</th>\n",
       "      <th>value</th>\n",
       "      <th>type</th>\n",
       "    </tr>\n",
       "  </thead>\n",
       "  <tbody>\n",
       "    <tr>\n",
       "      <th>0</th>\n",
       "      <td>exposed</td>\n",
       "      <td>0.622141</td>\n",
       "      <td>Turkey</td>\n",
       "    </tr>\n",
       "    <tr>\n",
       "      <th>1</th>\n",
       "      <td>exposed</td>\n",
       "      <td>0.877389</td>\n",
       "      <td>Turkey</td>\n",
       "    </tr>\n",
       "    <tr>\n",
       "      <th>2</th>\n",
       "      <td>exposed</td>\n",
       "      <td>0.883559</td>\n",
       "      <td>Turkey</td>\n",
       "    </tr>\n",
       "    <tr>\n",
       "      <th>3</th>\n",
       "      <td>exposed</td>\n",
       "      <td>0.818040</td>\n",
       "      <td>Turkey</td>\n",
       "    </tr>\n",
       "    <tr>\n",
       "      <th>4</th>\n",
       "      <td>exposed</td>\n",
       "      <td>0.738547</td>\n",
       "      <td>Turkey</td>\n",
       "    </tr>\n",
       "    <tr>\n",
       "      <th>...</th>\n",
       "      <td>...</td>\n",
       "      <td>...</td>\n",
       "      <td>...</td>\n",
       "    </tr>\n",
       "    <tr>\n",
       "      <th>1249</th>\n",
       "      <td>astroturfed</td>\n",
       "      <td>0.056882</td>\n",
       "      <td>Turkey</td>\n",
       "    </tr>\n",
       "    <tr>\n",
       "      <th>1250</th>\n",
       "      <td>astroturfed</td>\n",
       "      <td>0.273381</td>\n",
       "      <td>Turkey</td>\n",
       "    </tr>\n",
       "    <tr>\n",
       "      <th>1251</th>\n",
       "      <td>astroturfed</td>\n",
       "      <td>0.039510</td>\n",
       "      <td>Turkey</td>\n",
       "    </tr>\n",
       "    <tr>\n",
       "      <th>1252</th>\n",
       "      <td>astroturfed</td>\n",
       "      <td>0.107639</td>\n",
       "      <td>Turkey</td>\n",
       "    </tr>\n",
       "    <tr>\n",
       "      <th>1253</th>\n",
       "      <td>astroturfed</td>\n",
       "      <td>0.107559</td>\n",
       "      <td>Turkey</td>\n",
       "    </tr>\n",
       "  </tbody>\n",
       "</table>\n",
       "<p>1254 rows × 3 columns</p>\n",
       "</div>"
      ],
      "text/plain": [
       "         variable     value    type\n",
       "0         exposed  0.622141  Turkey\n",
       "1         exposed  0.877389  Turkey\n",
       "2         exposed  0.883559  Turkey\n",
       "3         exposed  0.818040  Turkey\n",
       "4         exposed  0.738547  Turkey\n",
       "...           ...       ...     ...\n",
       "1249  astroturfed  0.056882  Turkey\n",
       "1250  astroturfed  0.273381  Turkey\n",
       "1251  astroturfed  0.039510  Turkey\n",
       "1252  astroturfed  0.107639  Turkey\n",
       "1253  astroturfed  0.107559  Turkey\n",
       "\n",
       "[1254 rows x 3 columns]"
      ]
     },
     "execution_count": 13,
     "metadata": {},
     "output_type": "execute_result"
    }
   ],
   "source": [
    "temp"
   ]
  },
  {
   "cell_type": "code",
   "execution_count": 15,
   "metadata": {},
   "outputs": [
    {
     "data": {
      "image/png": "[encoded data removed]",
      "text/plain": [
       "<Figure size 1008x576 with 1 Axes>"
      ]
     },
     "metadata": {
      "needs_background": "light"
     },
     "output_type": "display_data"
    }
   ],
   "source": [
    "import matplotlib as mpl, seaborn as sns\n",
    "mpl.rcParams.update({'font.size': 22})\n",
    "plt.figure(figsize=(14,8))\n",
    "sns.boxplot(x='variable', y='value', hue='type',\n",
    "            data=pd.concat([temp, temp_india]).query('variable != \"astroturfed\"'))\n",
    "plt.xticks([0,1], labels=['Network-Exposed', 'Trending-Exposed'])\n",
    "plt.ylabel('Fraction of All Tweets')\n",
    "# plt.xlabel('Tweet Category')\n",
    "plt.xlabel('')\n",
    "plt.legend(title='', loc='upper right')\n",
    "plt.title('Distribution of Tweet Types Across Hashtags')\n",
    "plt.savefig('/home/jschless/paper_figs/tweet_type_distributions.pdf')"
   ]
  },
  {
   "cell_type": "code",
   "execution_count": null,
   "metadata": {
    "collapsed": true
   },
   "outputs": [],
   "source": []
  }
 ],
 "metadata": {
  "kernelspec": {
   "display_name": "gt",
   "language": "python",
   "name": "gt"
  },
  "language_info": {
   "codemirror_mode": {
    "name": "ipython",
    "version": 3
   },
   "file_extension": ".py",
   "mimetype": "text/x-python",
   "name": "python",
   "nbconvert_exporter": "python",
   "pygments_lexer": "ipython3",
   "version": "3.8.5"
  }
 },
 "nbformat": 4,
 "nbformat_minor": 2
}
